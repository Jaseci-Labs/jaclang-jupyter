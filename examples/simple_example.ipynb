{
 "cells": [
  {
   "cell_type": "code",
   "execution_count": 2,
   "id": "c37e3f66",
   "metadata": {},
   "outputs": [
    {
     "name": "stdout",
     "output_type": "stream",
     "text": [
      "Hello world\n"
     ]
    }
   ],
   "source": [
    "\"\"\" This is a Hello World Program \"\"\"\n",
    "\n",
    "with entry{\n",
    "    print(\"Hello world\");\n",
    "}"
   ]
  },
  {
   "cell_type": "code",
   "execution_count": 3,
   "id": "87b5906e",
   "metadata": {},
   "outputs": [
    {
     "name": "stdout",
     "output_type": "stream",
     "text": [
      "15\n"
     ]
    }
   ],
   "source": [
    "\"\"\" Simple Maths \"\"\"\n",
    "\n",
    "with entry{\n",
    "    a = 5;\n",
    "    b = 10;\n",
    "    \n",
    "    print(a+b);\n",
    "}"
   ]
  },
  {
   "cell_type": "code",
   "execution_count": 4,
   "id": "83fad64e",
   "metadata": {},
   "outputs": [
    {
     "name": "stdout",
     "output_type": "stream",
     "text": [
      "Exception: name 'c' is not defined\n",
      "JacCode Snippet:\n",
      "1: \t\"\"\" Simple Maths \"\"\"\n",
      "2: \t\n",
      "3: \twith entry{\n",
      "*4: \t    a = 5;\n",
      "5: \t    b = 10;\n",
      "6: \t    \n",
      "7: \t    print(c);\n",
      "PyCode Snippet:\n",
      "2: \tfrom __future__ import annotations\n",
      "3: \ta = 5  # 0 4\n",
      "4: \tb = 10  # 0 4\n",
      "*5: \tprint(c)  # 0 4\n",
      "6: \t\n",
      "7: \tr\"\"\" JAC DEBUG INFO\n",
      "8: \t/var/folders/mm/mlcr8k8n51n66y25lmp08mrm0000gn/T/tmpp71ty4bu/temp.jac\n"
     ]
    }
   ],
   "source": [
    "\"\"\" Simple Maths \"\"\"\n",
    "\n",
    "with entry{\n",
    "    a = 5;\n",
    "    b = 10;\n",
    "    \n",
    "    print(c);\n",
    "}"
   ]
  },
  {
   "cell_type": "code",
   "execution_count": null,
   "id": "269357f3",
   "metadata": {},
   "outputs": [],
   "source": []
  }
 ],
 "metadata": {
  "kernelspec": {
   "display_name": "Jac",
   "language": "",
   "name": "jac_kernel"
  },
  "language_info": {
   "file_extension": ".jac",
   "mimetype": "text/plain",
   "name": "python",
   "pygments_lexer": "jac_lexer"
  }
 },
 "nbformat": 4,
 "nbformat_minor": 5
}
