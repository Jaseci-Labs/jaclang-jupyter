{
 "cells": [
  {
   "cell_type": "code",
   "execution_count": null,
   "id": "c37e3f66",
   "metadata": {},
   "outputs": [],
   "source": [
    "\"\"\" This is a Hello World Program \"\"\"\n",
    "\n",
    "with entry{\n",
    "    print(\"Hello world\");\n",
    "}"
   ]
  },
  {
   "cell_type": "code",
   "execution_count": null,
   "id": "87b5906e",
   "metadata": {},
   "outputs": [],
   "source": []
  }
 ],
 "metadata": {
  "kernelspec": {
   "display_name": "Jac",
   "language": "",
   "name": "jackernel"
  }
 },
 "nbformat": 4,
 "nbformat_minor": 5
}
